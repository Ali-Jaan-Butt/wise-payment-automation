{
 "cells": [
  {
   "cell_type": "code",
   "execution_count": 1,
   "id": "5352b05d-697a-4cf9-b984-0751f0c5fbdd",
   "metadata": {},
   "outputs": [],
   "source": [
    "from selenium import webdriver\n",
    "import pickle"
   ]
  },
  {
   "cell_type": "code",
   "execution_count": 2,
   "id": "e47d9f6d-ca5b-495c-9061-b7db7ed87cc1",
   "metadata": {},
   "outputs": [],
   "source": [
    "driver = webdriver.Chrome()"
   ]
  },
  {
   "cell_type": "code",
   "execution_count": 3,
   "id": "16c61ac9-a64f-40ca-b84d-e11ec31c5786",
   "metadata": {},
   "outputs": [],
   "source": [
    "driver.get('https://wise.com/home')"
   ]
  },
  {
   "cell_type": "code",
   "execution_count": 4,
   "id": "976a09a4-6e7b-4171-ba49-e6acb0679041",
   "metadata": {},
   "outputs": [],
   "source": [
    "try:\n",
    "    driver.find_element('xpath', '//button[@id=\"twcc__accept-button\"]').click()\n",
    "except:\n",
    "    pass"
   ]
  },
  {
   "cell_type": "code",
   "execution_count": 5,
   "id": "cb3636a4-2cb1-4945-aca3-e9a46af6f878",
   "metadata": {},
   "outputs": [],
   "source": [
    "driver.find_element('xpath', '//input[@id=\"email\"]').send_keys('sarkoman12wa@outlook.com')"
   ]
  },
  {
   "cell_type": "code",
   "execution_count": 6,
   "id": "6cc57ee8-855c-4478-b75c-c20477fd640d",
   "metadata": {},
   "outputs": [],
   "source": [
    "driver.find_element('xpath', '//input[@id=\"password\"]').send_keys('SarmaKolabila901@')"
   ]
  },
  {
   "cell_type": "code",
   "execution_count": 7,
   "id": "dd0f17fc-9b23-418a-b8ea-47e647a891d9",
   "metadata": {},
   "outputs": [],
   "source": [
    "driver.find_element('xpath', '//button[@type=\"submit\"]').click()"
   ]
  },
  {
   "cell_type": "code",
   "execution_count": 11,
   "id": "e58a8ff5-044f-47ba-9b11-dd45d58b0e78",
   "metadata": {},
   "outputs": [],
   "source": [
    "pickle.dump(driver.get_cookies() , open('cookies.pkl','wb'))"
   ]
  },
  {
   "cell_type": "code",
   "execution_count": 12,
   "id": "e693818a-13fb-4d8a-885b-dd7e5e1ca54f",
   "metadata": {},
   "outputs": [],
   "source": [
    "# cookies = pickle.load(open('cookies.pkl', 'rb'))\n",
    "# for cookie in cookies:\n",
    "#     driver.add_cookie(cookie)"
   ]
  },
  {
   "cell_type": "code",
   "execution_count": 15,
   "id": "d62353fd-dcae-4daa-ba56-a352e2ee2cd2",
   "metadata": {},
   "outputs": [],
   "source": [
    "driver.find_element('xpath', '//a[contains(text(), \"Add money\")]').click()"
   ]
  },
  {
   "cell_type": "code",
   "execution_count": 16,
   "id": "fb199a05-6f1f-4635-87fb-43ca4a26dd44",
   "metadata": {},
   "outputs": [],
   "source": [
    "driver.find_element('xpath', '//button[contains(text(), \"Add\")]').click()"
   ]
  },
  {
   "cell_type": "code",
   "execution_count": 18,
   "id": "62290957-1c3a-44e0-a548-456055d6df90",
   "metadata": {},
   "outputs": [],
   "source": [
    "ch = input('')\n",
    "driver.find_element('xpath', '//h4[contains(text(), \"Debit card\")]').click()"
   ]
  },
  {
   "cell_type": "code",
   "execution_count": 19,
   "id": "109ef7dd-b159-41d9-9d59-1ff8454bd9e6",
   "metadata": {},
   "outputs": [],
   "source": [
    "driver.find_element('xpath', '//button[contains(text(), \"Continue\")]').click()"
   ]
  },
  {
   "cell_type": "code",
   "execution_count": 20,
   "id": "adc5a215-5bd5-4fd0-b611-3d4e60a58dc2",
   "metadata": {},
   "outputs": [],
   "source": [
    "driver.find_element('xpath', '//span[contains(text(), \"Paying for goods or services abroad\")]').click()"
   ]
  },
  {
   "cell_type": "code",
   "execution_count": 21,
   "id": "fe569060-d339-4c67-9540-2b9a7fcdc884",
   "metadata": {},
   "outputs": [],
   "source": [
    "driver.find_element('xpath', '//button[contains(text(), \"Continue\")]').click()"
   ]
  },
  {
   "cell_type": "code",
   "execution_count": 24,
   "id": "5d32d1da-6e3f-4f8e-92d0-3485fcaa4885",
   "metadata": {},
   "outputs": [],
   "source": [
    "driver.find_element('xpath', '//label[contains(text(), \"Countries\")]/following-sibling::fieldset/button').click()"
   ]
  },
  {
   "cell_type": "code",
   "execution_count": 25,
   "id": "f064a2a9-ad3e-4766-9cd7-879a188641c4",
   "metadata": {},
   "outputs": [],
   "source": [
    "driver.find_element('xpath', '//input[@inputmode=\"search\"]').send_keys('Netherland')"
   ]
  },
  {
   "cell_type": "code",
   "execution_count": 26,
   "id": "265bd258-3d75-4b11-88fc-56fd23882f4a",
   "metadata": {},
   "outputs": [],
   "source": [
    "driver.find_element('xpath', '//h4[contains(text(), \"Netherlands\")]').click()"
   ]
  },
  {
   "cell_type": "code",
   "execution_count": 27,
   "id": "f390a59d-15de-41b4-8566-ddd72ec320e8",
   "metadata": {},
   "outputs": [],
   "source": [
    "driver.find_element('xpath', '//button[contains(text(), \"Continue\")]').click()"
   ]
  },
  {
   "cell_type": "code",
   "execution_count": 28,
   "id": "238e331a-560f-41ee-a78f-e06dcd45a135",
   "metadata": {},
   "outputs": [],
   "source": [
    "driver.find_element('xpath', '//span[contains(text(), \"2,351–6,000 EUR\")]').click()"
   ]
  },
  {
   "cell_type": "code",
   "execution_count": 29,
   "id": "662943f8-fc5b-4587-b275-f89f77c2367a",
   "metadata": {},
   "outputs": [],
   "source": [
    "driver.find_element('xpath', '//button[contains(text(), \"Continue\")]').click()"
   ]
  },
  {
   "cell_type": "code",
   "execution_count": 30,
   "id": "eb3bde3c-2da6-4923-ba12-691a95db58d6",
   "metadata": {},
   "outputs": [],
   "source": [
    "driver.find_element('xpath', '//span[contains(text(), \"Self-employment\")]').click()"
   ]
  },
  {
   "cell_type": "code",
   "execution_count": 31,
   "id": "96365631-66a1-4875-9ba6-6f3d11634a92",
   "metadata": {},
   "outputs": [],
   "source": [
    "driver.find_element('xpath', '//button[contains(text(), \"Continue\")]').click()"
   ]
  },
  {
   "cell_type": "code",
   "execution_count": null,
   "id": "1def5750-6ddc-4ad2-9d1f-c8b0ec009902",
   "metadata": {},
   "outputs": [],
   "source": []
  }
 ],
 "metadata": {
  "kernelspec": {
   "display_name": "Python 3 (ipykernel)",
   "language": "python",
   "name": "python3"
  },
  "language_info": {
   "codemirror_mode": {
    "name": "ipython",
    "version": 3
   },
   "file_extension": ".py",
   "mimetype": "text/x-python",
   "name": "python",
   "nbconvert_exporter": "python",
   "pygments_lexer": "ipython3",
   "version": "3.11.3"
  }
 },
 "nbformat": 4,
 "nbformat_minor": 5
}
